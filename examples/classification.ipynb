{
 "cells": [
  {
   "cell_type": "markdown",
   "id": "186b6303-6cff-47b6-85b2-756991f38122",
   "metadata": {},
   "source": [
    "# "
   ]
  },
  {
   "cell_type": "code",
   "execution_count": 1,
   "id": "537a54d8-f022-47d1-908a-d832de691388",
   "metadata": {},
   "outputs": [],
   "source": [
    "import numpy as np\n",
    "import matplotlib.pyplot as plt\n",
    "from sklearn.metrics import hamming_loss\n",
    "\n",
    "from modellib.classification import LogisticRegression"
   ]
  },
  {
   "cell_type": "code",
   "execution_count": 2,
   "id": "0836302d-7b6d-4c81-9da6-3952aa525e49",
   "metadata": {},
   "outputs": [],
   "source": [
    "def example_function(x):\n",
    "    return ((x**2).sum(axis=1) + np.random.randn(x.shape[0])/5>200).astype(int)"
   ]
  },
  {
   "cell_type": "code",
   "execution_count": 3,
   "id": "60348f78-6a86-4d3f-bacb-61c925932ed6",
   "metadata": {},
   "outputs": [],
   "source": [
    "x_tr = np.random.uniform(0, 11, (100, 5))\n",
    "y_tr = example_function(x_tr).reshape(-1, 1)"
   ]
  },
  {
   "cell_type": "code",
   "execution_count": 4,
   "id": "92fd364c-c82f-4fdc-ad0f-de4fab9cbc0b",
   "metadata": {},
   "outputs": [],
   "source": [
    "assert x_tr.shape[0] == y_tr.shape[0]\n",
    "assert x_tr.shape[1] == 5\n",
    "assert y_tr.shape[1] == 1"
   ]
  },
  {
   "cell_type": "code",
   "execution_count": 5,
   "id": "6134ae4d-9249-4737-b3b6-ef0860b23815",
   "metadata": {},
   "outputs": [],
   "source": [
    "x_te = np.random.uniform(0, 11, (10, 5))\n",
    "y_te = example_function(x_te).reshape(-1, 1)"
   ]
  },
  {
   "cell_type": "code",
   "execution_count": 6,
   "id": "843153ab-013b-4d71-a8cc-a70c97e1298e",
   "metadata": {},
   "outputs": [],
   "source": [
    "model = LogisticRegression()\n",
    "model.fit(x_tr[:5], y_tr[:5])\n",
    "y_ = model.predict(x_te)"
   ]
  },
  {
   "cell_type": "code",
   "execution_count": 7,
   "id": "e2fa9782-f9bd-49ef-98ef-f8d6a0462294",
   "metadata": {},
   "outputs": [
    {
     "name": "stdout",
     "output_type": "stream",
     "text": [
      "5/10\n"
     ]
    },
    {
     "data": {
      "text/plain": [
       "0.5"
      ]
     },
     "execution_count": 7,
     "metadata": {},
     "output_type": "execute_result"
    }
   ],
   "source": [
    "print(f\"{int(sum(y_te==y_))}/{len(y_te)}\")\n",
    "hamming_loss(y_te, y_)"
   ]
  },
  {
   "cell_type": "code",
   "execution_count": 8,
   "id": "14e0edd7-e823-48e0-b67c-15c15321bd79",
   "metadata": {},
   "outputs": [],
   "source": [
    "model = LogisticRegression()\n",
    "model.fit(x_tr, y_tr)\n",
    "y__ = model.predict(x_te)"
   ]
  },
  {
   "cell_type": "code",
   "execution_count": 9,
   "id": "e13f2bac-e592-4c1c-acab-1379e13b146f",
   "metadata": {},
   "outputs": [
    {
     "name": "stdout",
     "output_type": "stream",
     "text": [
      "9/10\n"
     ]
    },
    {
     "data": {
      "text/plain": [
       "0.1"
      ]
     },
     "execution_count": 9,
     "metadata": {},
     "output_type": "execute_result"
    }
   ],
   "source": [
    "print(f\"{int(sum(y_te==y__))}/{len(y_te)}\")\n",
    "hamming_loss(y_te, y__)"
   ]
  },
  {
   "cell_type": "code",
   "execution_count": null,
   "id": "702f5c13-341e-4b4c-845c-b18e4baba760",
   "metadata": {},
   "outputs": [],
   "source": []
  }
 ],
 "metadata": {
  "kernelspec": {
   "display_name": "Python 3 (ipykernel)",
   "language": "python",
   "name": "python3"
  },
  "language_info": {
   "codemirror_mode": {
    "name": "ipython",
    "version": 3
   },
   "file_extension": ".py",
   "mimetype": "text/x-python",
   "name": "python",
   "nbconvert_exporter": "python",
   "pygments_lexer": "ipython3",
   "version": "3.11.5"
  }
 },
 "nbformat": 4,
 "nbformat_minor": 5
}
